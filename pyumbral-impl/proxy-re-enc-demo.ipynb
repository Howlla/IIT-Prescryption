{
 "cells": [
  {
   "cell_type": "markdown",
   "metadata": {},
   "source": [
    "## Setting elliptic curve parameter"
   ]
  },
  {
   "cell_type": "code",
   "execution_count": 40,
   "metadata": {},
   "outputs": [
    {
     "ename": "UmbralConfigurationError",
     "evalue": "You can only set the default curve once.  Do it once and then leave it alone.",
     "output_type": "error",
     "traceback": [
      "\u001b[0;31m---------------------------------------------------------------------------\u001b[0m",
      "\u001b[0;31mUmbralConfigurationError\u001b[0m                  Traceback (most recent call last)",
      "\u001b[0;32m<ipython-input-40-eb03335cf14b>\u001b[0m in \u001b[0;36m<module>\u001b[0;34m\u001b[0m\n\u001b[1;32m      1\u001b[0m \u001b[0;32mfrom\u001b[0m \u001b[0mumbral\u001b[0m \u001b[0;32mimport\u001b[0m \u001b[0mconfig\u001b[0m\u001b[0;34m\u001b[0m\u001b[0;34m\u001b[0m\u001b[0m\n\u001b[1;32m      2\u001b[0m \u001b[0;32mfrom\u001b[0m \u001b[0mumbral\u001b[0m\u001b[0;34m.\u001b[0m\u001b[0mcurve\u001b[0m \u001b[0;32mimport\u001b[0m \u001b[0mSECP256K1\u001b[0m\u001b[0;34m\u001b[0m\u001b[0;34m\u001b[0m\u001b[0m\n\u001b[0;32m----> 3\u001b[0;31m \u001b[0mconfig\u001b[0m\u001b[0;34m.\u001b[0m\u001b[0mset_default_curve\u001b[0m\u001b[0;34m(\u001b[0m\u001b[0mSECP256K1\u001b[0m\u001b[0;34m)\u001b[0m\u001b[0;34m\u001b[0m\u001b[0;34m\u001b[0m\u001b[0m\n\u001b[0m",
      "\u001b[0;32m~/work/proj/zagg/pyth-work/nucypher/lib/python3.6/site-packages/umbral/config.py\u001b[0m in \u001b[0;36mset_default_curve\u001b[0;34m(curve)\u001b[0m\n\u001b[1;32m     69\u001b[0m \u001b[0;34m\u001b[0m\u001b[0m\n\u001b[1;32m     70\u001b[0m \u001b[0;32mdef\u001b[0m \u001b[0mset_default_curve\u001b[0m\u001b[0;34m(\u001b[0m\u001b[0mcurve\u001b[0m\u001b[0;34m:\u001b[0m \u001b[0mOptional\u001b[0m\u001b[0;34m[\u001b[0m\u001b[0mCurve\u001b[0m\u001b[0;34m]\u001b[0m \u001b[0;34m=\u001b[0m \u001b[0;32mNone\u001b[0m\u001b[0;34m)\u001b[0m \u001b[0;34m->\u001b[0m \u001b[0;32mNone\u001b[0m\u001b[0;34m:\u001b[0m\u001b[0;34m\u001b[0m\u001b[0;34m\u001b[0m\u001b[0m\n\u001b[0;32m---> 71\u001b[0;31m     \u001b[0;32mreturn\u001b[0m \u001b[0m_CONFIG\u001b[0m\u001b[0;34m.\u001b[0m\u001b[0mset_curve\u001b[0m\u001b[0;34m(\u001b[0m\u001b[0mcurve\u001b[0m\u001b[0;34m)\u001b[0m\u001b[0;34m\u001b[0m\u001b[0;34m\u001b[0m\u001b[0m\n\u001b[0m\u001b[1;32m     72\u001b[0m \u001b[0;34m\u001b[0m\u001b[0m\n\u001b[1;32m     73\u001b[0m \u001b[0;34m\u001b[0m\u001b[0m\n",
      "\u001b[0;32m~/work/proj/zagg/pyth-work/nucypher/lib/python3.6/site-packages/umbral/config.py\u001b[0m in \u001b[0;36mset_curve\u001b[0;34m(cls, curve)\u001b[0m\n\u001b[1;32m     59\u001b[0m         \u001b[0;32mif\u001b[0m \u001b[0mcls\u001b[0m\u001b[0;34m.\u001b[0m\u001b[0m__curve\u001b[0m\u001b[0;34m:\u001b[0m\u001b[0;34m\u001b[0m\u001b[0;34m\u001b[0m\u001b[0m\n\u001b[1;32m     60\u001b[0m             raise cls.UmbralConfigurationError(\n\u001b[0;32m---> 61\u001b[0;31m                 \"You can only set the default curve once.  Do it once and then leave it alone.\")\n\u001b[0m\u001b[1;32m     62\u001b[0m         \u001b[0;32melse\u001b[0m\u001b[0;34m:\u001b[0m\u001b[0;34m\u001b[0m\u001b[0;34m\u001b[0m\u001b[0m\n\u001b[1;32m     63\u001b[0m             \u001b[0;32mfrom\u001b[0m \u001b[0mumbral\u001b[0m\u001b[0;34m.\u001b[0m\u001b[0mparams\u001b[0m \u001b[0;32mimport\u001b[0m \u001b[0mUmbralParameters\u001b[0m\u001b[0;34m\u001b[0m\u001b[0;34m\u001b[0m\u001b[0m\n",
      "\u001b[0;31mUmbralConfigurationError\u001b[0m: You can only set the default curve once.  Do it once and then leave it alone."
     ]
    }
   ],
   "source": [
    "from umbral import config\n",
    "from umbral.curve import SECP256K1\n",
    "config.set_default_curve(SECP256K1)"
   ]
  },
  {
   "cell_type": "markdown",
   "metadata": {},
   "source": [
    "## Generating Key-Pair for Alice"
   ]
  },
  {
   "cell_type": "code",
   "execution_count": 68,
   "metadata": {},
   "outputs": [],
   "source": [
    "from umbral import keys, signing\n",
    "alices_private_key = keys.UmbralPrivateKey.gen_key()\n",
    "alices_public_key = alices_private_key.get_pubkey()\n",
    "\n",
    "# alices_signing_key = keys.UmbralPrivateKey.gen_key()\n",
    "# alices_verifying_key = alices_signing_key.get_pubkey()\n",
    "alices_signer = signing.Signer(private_key=alices_private_key)"
   ]
  },
  {
   "cell_type": "markdown",
   "metadata": {},
   "source": [
    "## Common methods for reading-writing a file"
   ]
  },
  {
   "cell_type": "code",
   "execution_count": 69,
   "metadata": {},
   "outputs": [],
   "source": [
    "plainTextFile = \"alice/secretFile.txt\"\n",
    "cipherTextFile = \"IPFS/encSecretFile.txt\"\n",
    "decryptedTestFile = \"bob/secretFile.txt\"\n",
    "# function to read a file into bytes \n",
    "def readFileIntoBytes(filePath):\n",
    "    \"\"\"This method reads the file data into bytes\"\"\"\n",
    "    with open(filePath, 'rb') as myfile:\n",
    "        return myfile.read()"
   ]
  },
  {
   "cell_type": "code",
   "execution_count": 70,
   "metadata": {},
   "outputs": [],
   "source": [
    "# function to write bytes into a file\n",
    "def writeBytesIntoFile(filePath, bytesToWrite):\n",
    "    \"\"\"This method to write bytes into a file\"\"\"\n",
    "    with open(filePath, 'wb') as myfile:\n",
    "        myfile.write(bytesToWrite)"
   ]
  },
  {
   "cell_type": "markdown",
   "metadata": {},
   "source": [
    "## Encrypting with a Alice's public key"
   ]
  },
  {
   "cell_type": "code",
   "execution_count": 71,
   "metadata": {},
   "outputs": [],
   "source": [
    "from umbral import pre\n",
    "plaintext = readFileIntoBytes(plainTextFile)\n",
    "ciphertext, capsule = pre.encrypt(alices_public_key, plaintext)\n",
    "writeBytesIntoFile(cipherTextFile, ciphertext)\n",
    "# capsule and ciphertext are stored in IPFS"
   ]
  },
  {
   "cell_type": "markdown",
   "metadata": {},
   "source": [
    "## Generating Key-Pair for Bob"
   ]
  },
  {
   "cell_type": "code",
   "execution_count": 72,
   "metadata": {},
   "outputs": [],
   "source": [
    "bobs_private_key = keys.UmbralPrivateKey.gen_key()\n",
    "bobs_public_key = bobs_private_key.get_pubkey()\n",
    "\n",
    "# Now Bob wants access of that text from Alice"
   ]
  },
  {
   "cell_type": "markdown",
   "metadata": {},
   "source": [
    "## Generating 20 Key Frags by Alice\n",
    "\n",
    "When Alice wants to grant Bob access to open her encrypted messages, she creates threshold split re-encryption keys, or “kfrags”, which are next sent to N proxies or Ursulas."
   ]
  },
  {
   "cell_type": "code",
   "execution_count": 73,
   "metadata": {},
   "outputs": [
    {
     "data": {
      "text/plain": [
       "[KFrag:aae0081e1bd4f1a,\n",
       " KFrag:4e4950746c67967,\n",
       " KFrag:27f8420a8254f93,\n",
       " KFrag:f49ec6196a0218d,\n",
       " KFrag:0b472c02567909f,\n",
       " KFrag:17e18735841d638,\n",
       " KFrag:23bbdfa98dfa9d4,\n",
       " KFrag:9972938a48bb948,\n",
       " KFrag:0099cb38151d3c4,\n",
       " KFrag:e2e7aba175b6194,\n",
       " KFrag:42997a9e6117651,\n",
       " KFrag:0f96871d6bbe240,\n",
       " KFrag:9f9af153fd3f89a,\n",
       " KFrag:448dc37ae22faff,\n",
       " KFrag:9e8e8eef981adb2,\n",
       " KFrag:864159151033678,\n",
       " KFrag:49686957b10b2db,\n",
       " KFrag:8d0f411f543e89b,\n",
       " KFrag:2bd1915510c701a,\n",
       " KFrag:49107a749fa3e5c]"
      ]
     },
     "execution_count": 73,
     "metadata": {},
     "output_type": "execute_result"
    }
   ],
   "source": [
    "kfrags = pre.generate_kfrags(delegating_privkey=alices_private_key,\n",
    "                              signer=alices_signer,\n",
    "                              receiving_pubkey=bobs_public_key,\n",
    "                              threshold=10,\n",
    "                              N=20)\n",
    "kfrags"
   ]
  },
  {
   "cell_type": "markdown",
   "metadata": {},
   "source": [
    "## Ursulas perform re-encryption\n",
    "\n",
    "- Bob asks several Ursulas to re-encrypt the capsule so he can open it - He sents the capsule to Ursulas\n",
    "- Each Ursula performs re-encryption on the capsule using the kfrag provided by Alice, obtaining this way a “capsule fragment”, or cfrag.\n",
    "-  Let’s mock a network or transport layer by sampling threshold random kfrags, one for each required Ursula..\n"
   ]
  },
  {
   "cell_type": "code",
   "execution_count": 74,
   "metadata": {},
   "outputs": [
    {
     "data": {
      "text/plain": [
       "[CFrag:ceeade805a9d34c,\n",
       " CFrag:1f20c2653ffb240,\n",
       " CFrag:0d8f2266a93b5fc,\n",
       " CFrag:fe2a019a8d27820,\n",
       " CFrag:d16fdad8d9878ba,\n",
       " CFrag:92cfa579b9353d2,\n",
       " CFrag:f32a5c1b8859d35,\n",
       " CFrag:a2f887a5feed0b9,\n",
       " CFrag:406d54f5c31626e,\n",
       " CFrag:005c7b17defeb68]"
      ]
     },
     "execution_count": 74,
     "metadata": {},
     "output_type": "execute_result"
    }
   ],
   "source": [
    "import random\n",
    "kfrags = random.sample(kfrags,  # All kfrags from above (sent by Alice)\n",
    "                       10)      # M - Threshold\n",
    "\n",
    "capsule.set_correctness_keys(delegating=alices_public_key,\n",
    "                             receiving=bobs_public_key,\n",
    "                             verifying=alices_public_key)\n",
    "\n",
    "cfrags = list()\n",
    "for kfrag in kfrags:\n",
    "    cfrag = pre.reencrypt(kfrag=kfrag, capsule=capsule)\n",
    "    cfrags.append(cfrag)\n",
    "cfrags"
   ]
  },
  {
   "cell_type": "markdown",
   "metadata": {},
   "source": [
    "## Bob activates and opens the capsule\n",
    "\n",
    "- Bob collects the resulting cfrags from several Ursulas. Bob must gather at least threshold cfrags in order to activate the capsule.\n",
    "- Bob attaches at least threshold cfrags to the capsule, which has to be prepared in advance with the necessary correctness keys."
   ]
  },
  {
   "cell_type": "code",
   "execution_count": 75,
   "metadata": {
    "scrolled": true
   },
   "outputs": [],
   "source": [
    "capsule.set_correctness_keys(delegating=alices_public_key,\n",
    "                             receiving=bobs_public_key,\n",
    "                             verifying=alices_public_key)\n",
    "\n",
    "for cfrag in cfrags:\n",
    "    capsule.attach_cfrag(cfrag)\n",
    "\n",
    "ciphertext = readFileIntoBytes(cipherTextFile)\n",
    "cleartext = pre.decrypt(ciphertext=ciphertext, capsule=capsule, decrypting_key=bobs_private_key)\n",
    "writeBytesIntoFile(decryptedTestFile, cleartext)"
   ]
  },
  {
   "cell_type": "code",
   "execution_count": null,
   "metadata": {},
   "outputs": [],
   "source": []
  },
  {
   "cell_type": "code",
   "execution_count": null,
   "metadata": {},
   "outputs": [],
   "source": []
  }
 ],
 "metadata": {
  "kernelspec": {
   "display_name": "Python 3",
   "language": "python",
   "name": "python3"
  },
  "language_info": {
   "codemirror_mode": {
    "name": "ipython",
    "version": 3
   },
   "file_extension": ".py",
   "mimetype": "text/x-python",
   "name": "python",
   "nbconvert_exporter": "python",
   "pygments_lexer": "ipython3",
   "version": "3.6.8"
  }
 },
 "nbformat": 4,
 "nbformat_minor": 2
}
